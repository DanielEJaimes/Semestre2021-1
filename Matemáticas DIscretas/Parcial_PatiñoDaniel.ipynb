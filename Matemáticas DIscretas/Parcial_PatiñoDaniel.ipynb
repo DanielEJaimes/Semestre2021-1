{
 "cells": [
  {
   "cell_type": "code",
   "execution_count": 1,
   "id": "038a83a6",
   "metadata": {},
   "outputs": [
    {
     "name": "stderr",
     "output_type": "stream",
     "text": [
      "[nltk_data] Downloading package punkt to\n",
      "[nltk_data]     C:\\Users\\USUARIO\\AppData\\Roaming\\nltk_data...\n",
      "[nltk_data]   Package punkt is already up-to-date!\n"
     ]
    },
    {
     "data": {
      "text/html": [
       "<div>\n",
       "<style scoped>\n",
       "    .dataframe tbody tr th:only-of-type {\n",
       "        vertical-align: middle;\n",
       "    }\n",
       "\n",
       "    .dataframe tbody tr th {\n",
       "        vertical-align: top;\n",
       "    }\n",
       "\n",
       "    .dataframe thead th {\n",
       "        text-align: right;\n",
       "    }\n",
       "</style>\n",
       "<table border=\"1\" class=\"dataframe\">\n",
       "  <thead>\n",
       "    <tr style=\"text-align: right;\">\n",
       "      <th></th>\n",
       "      <th>reviewerID</th>\n",
       "      <th>reviewerName</th>\n",
       "      <th>reviewText</th>\n",
       "      <th>overall</th>\n",
       "      <th>summary</th>\n",
       "      <th>reviewTime</th>\n",
       "    </tr>\n",
       "  </thead>\n",
       "  <tbody>\n",
       "    <tr>\n",
       "      <th>0</th>\n",
       "      <td>A11N155CW1UV02</td>\n",
       "      <td>AdrianaM</td>\n",
       "      <td>I had big expectations because I love English ...</td>\n",
       "      <td>2.0</td>\n",
       "      <td>A little bit boring for me</td>\n",
       "      <td>05 3, 2014</td>\n",
       "    </tr>\n",
       "    <tr>\n",
       "      <th>1</th>\n",
       "      <td>A3BC8O2KCL29V2</td>\n",
       "      <td>Carol T</td>\n",
       "      <td>I highly recommend this series. It is a must f...</td>\n",
       "      <td>5.0</td>\n",
       "      <td>Excellent Grown Up TV</td>\n",
       "      <td>09 3, 2012</td>\n",
       "    </tr>\n",
       "    <tr>\n",
       "      <th>2</th>\n",
       "      <td>A60D5HQFOTSOM</td>\n",
       "      <td>Daniel Cooper \"dancoopermedia\"</td>\n",
       "      <td>This one is a real snoozer. Don't believe anyt...</td>\n",
       "      <td>1.0</td>\n",
       "      <td>Way too boring for me</td>\n",
       "      <td>10 16, 2013</td>\n",
       "    </tr>\n",
       "    <tr>\n",
       "      <th>3</th>\n",
       "      <td>A1RJPIGRSNX4PW</td>\n",
       "      <td>J. Kaplan \"JJ\"</td>\n",
       "      <td>Mysteries are interesting.  The tension betwee...</td>\n",
       "      <td>4.0</td>\n",
       "      <td>Robson Green is mesmerizing</td>\n",
       "      <td>10 30, 2013</td>\n",
       "    </tr>\n",
       "    <tr>\n",
       "      <th>4</th>\n",
       "      <td>A16XRPF40679KG</td>\n",
       "      <td>Michael Dobey</td>\n",
       "      <td>This show always is excellent, as far as briti...</td>\n",
       "      <td>5.0</td>\n",
       "      <td>Robson green and great writing</td>\n",
       "      <td>02 11, 2009</td>\n",
       "    </tr>\n",
       "  </tbody>\n",
       "</table>\n",
       "</div>"
      ],
      "text/plain": [
       "       reviewerID                    reviewerName  \\\n",
       "0  A11N155CW1UV02                        AdrianaM   \n",
       "1  A3BC8O2KCL29V2                         Carol T   \n",
       "2   A60D5HQFOTSOM  Daniel Cooper \"dancoopermedia\"   \n",
       "3  A1RJPIGRSNX4PW                  J. Kaplan \"JJ\"   \n",
       "4  A16XRPF40679KG                   Michael Dobey   \n",
       "\n",
       "                                          reviewText  overall  \\\n",
       "0  I had big expectations because I love English ...      2.0   \n",
       "1  I highly recommend this series. It is a must f...      5.0   \n",
       "2  This one is a real snoozer. Don't believe anyt...      1.0   \n",
       "3  Mysteries are interesting.  The tension betwee...      4.0   \n",
       "4  This show always is excellent, as far as briti...      5.0   \n",
       "\n",
       "                          summary   reviewTime  \n",
       "0      A little bit boring for me   05 3, 2014  \n",
       "1           Excellent Grown Up TV   09 3, 2012  \n",
       "2           Way too boring for me  10 16, 2013  \n",
       "3     Robson Green is mesmerizing  10 30, 2013  \n",
       "4  Robson green and great writing  02 11, 2009  "
      ]
     },
     "execution_count": 1,
     "metadata": {},
     "output_type": "execute_result"
    }
   ],
   "source": [
    "import nltk\n",
    "nltk.download('punkt')\n",
    "import pandas as pd\n",
    "import string\n",
    "import matplotlib.pyplot as plt\n",
    "import seaborn as sns\n",
    "AIV_original = pd.read_csv('Data/Amazon_Instant_Video.csv')\n",
    "AIV = AIV_original.drop(columns = ['unixReviewTime', 'asin', 'helpful']).copy()\n",
    "AIV.head()"
   ]
  },
  {
   "cell_type": "code",
   "execution_count": 2,
   "id": "6dc04d56",
   "metadata": {},
   "outputs": [
    {
     "data": {
      "text/plain": [
       "reviewerID        0\n",
       "reviewerName    329\n",
       "reviewText        0\n",
       "overall           0\n",
       "summary           0\n",
       "reviewTime        0\n",
       "dtype: int64"
      ]
     },
     "execution_count": 2,
     "metadata": {},
     "output_type": "execute_result"
    }
   ],
   "source": [
    "AIV.isnull().sum()"
   ]
  },
  {
   "cell_type": "code",
   "execution_count": 3,
   "id": "494075f1",
   "metadata": {},
   "outputs": [
    {
     "data": {
      "text/html": [
       "<div>\n",
       "<style scoped>\n",
       "    .dataframe tbody tr th:only-of-type {\n",
       "        vertical-align: middle;\n",
       "    }\n",
       "\n",
       "    .dataframe tbody tr th {\n",
       "        vertical-align: top;\n",
       "    }\n",
       "\n",
       "    .dataframe thead th {\n",
       "        text-align: right;\n",
       "    }\n",
       "</style>\n",
       "<table border=\"1\" class=\"dataframe\">\n",
       "  <thead>\n",
       "    <tr style=\"text-align: right;\">\n",
       "      <th></th>\n",
       "      <th>reviewerID</th>\n",
       "      <th>reviewerName</th>\n",
       "      <th>reviewText</th>\n",
       "      <th>overall</th>\n",
       "      <th>summary</th>\n",
       "      <th>reviewTime</th>\n",
       "    </tr>\n",
       "  </thead>\n",
       "  <tbody>\n",
       "    <tr>\n",
       "      <th>0</th>\n",
       "      <td>A11N155CW1UV02</td>\n",
       "      <td>AdrianaM</td>\n",
       "      <td>I had big expectations because I love English ...</td>\n",
       "      <td>2.0</td>\n",
       "      <td>A little bit boring for me</td>\n",
       "      <td>05 3, 2014</td>\n",
       "    </tr>\n",
       "    <tr>\n",
       "      <th>1</th>\n",
       "      <td>A3BC8O2KCL29V2</td>\n",
       "      <td>Carol T</td>\n",
       "      <td>I highly recommend this series. It is a must f...</td>\n",
       "      <td>5.0</td>\n",
       "      <td>Excellent Grown Up TV</td>\n",
       "      <td>09 3, 2012</td>\n",
       "    </tr>\n",
       "    <tr>\n",
       "      <th>2</th>\n",
       "      <td>A60D5HQFOTSOM</td>\n",
       "      <td>Daniel Cooper \"dancoopermedia\"</td>\n",
       "      <td>This one is a real snoozer. Don't believe anyt...</td>\n",
       "      <td>1.0</td>\n",
       "      <td>Way too boring for me</td>\n",
       "      <td>10 16, 2013</td>\n",
       "    </tr>\n",
       "    <tr>\n",
       "      <th>3</th>\n",
       "      <td>A1RJPIGRSNX4PW</td>\n",
       "      <td>J. Kaplan \"JJ\"</td>\n",
       "      <td>Mysteries are interesting.  The tension betwee...</td>\n",
       "      <td>4.0</td>\n",
       "      <td>Robson Green is mesmerizing</td>\n",
       "      <td>10 30, 2013</td>\n",
       "    </tr>\n",
       "    <tr>\n",
       "      <th>4</th>\n",
       "      <td>A16XRPF40679KG</td>\n",
       "      <td>Michael Dobey</td>\n",
       "      <td>This show always is excellent, as far as briti...</td>\n",
       "      <td>5.0</td>\n",
       "      <td>Robson green and great writing</td>\n",
       "      <td>02 11, 2009</td>\n",
       "    </tr>\n",
       "    <tr>\n",
       "      <th>...</th>\n",
       "      <td>...</td>\n",
       "      <td>...</td>\n",
       "      <td>...</td>\n",
       "      <td>...</td>\n",
       "      <td>...</td>\n",
       "      <td>...</td>\n",
       "    </tr>\n",
       "    <tr>\n",
       "      <th>37121</th>\n",
       "      <td>A1ELO9LMSE1CQ7</td>\n",
       "      <td>Mpr90</td>\n",
       "      <td>I love the books! The show is amazing so far. ...</td>\n",
       "      <td>5.0</td>\n",
       "      <td>Great Series!</td>\n",
       "      <td>07 19, 2014</td>\n",
       "    </tr>\n",
       "    <tr>\n",
       "      <th>37122</th>\n",
       "      <td>AGOEKVIJV9UX6</td>\n",
       "      <td>Mr. Markster</td>\n",
       "      <td>\"The Strain\" has potential to be an excellent ...</td>\n",
       "      <td>5.0</td>\n",
       "      <td>Forget the Vampire Diaries -- This is a REAL V...</td>\n",
       "      <td>07 14, 2014</td>\n",
       "    </tr>\n",
       "    <tr>\n",
       "      <th>37123</th>\n",
       "      <td>A3I291BE0RNZCU</td>\n",
       "      <td>Rating My Best Pick</td>\n",
       "      <td>I'm not real sure on how, I should rate this s...</td>\n",
       "      <td>3.0</td>\n",
       "      <td>It's only the first episode so I'm not real su...</td>\n",
       "      <td>07 14, 2014</td>\n",
       "    </tr>\n",
       "    <tr>\n",
       "      <th>37124</th>\n",
       "      <td>A1MNITZRYU71IO</td>\n",
       "      <td>Sherry \"trying in ohio\"</td>\n",
       "      <td>episode one so far makes me want to watch more...</td>\n",
       "      <td>4.0</td>\n",
       "      <td>and that is good. The accents are a bit much h...</td>\n",
       "      <td>07 14, 2014</td>\n",
       "    </tr>\n",
       "    <tr>\n",
       "      <th>37125</th>\n",
       "      <td>A1XMHK9HN5MW2H</td>\n",
       "      <td>Victoria J. Dennison</td>\n",
       "      <td>I watched the pilot.  I guess I've just seen t...</td>\n",
       "      <td>3.0</td>\n",
       "      <td>I may have paid towatch the pilot</td>\n",
       "      <td>07 16, 2014</td>\n",
       "    </tr>\n",
       "  </tbody>\n",
       "</table>\n",
       "<p>36797 rows × 6 columns</p>\n",
       "</div>"
      ],
      "text/plain": [
       "           reviewerID                    reviewerName  \\\n",
       "0      A11N155CW1UV02                        AdrianaM   \n",
       "1      A3BC8O2KCL29V2                         Carol T   \n",
       "2       A60D5HQFOTSOM  Daniel Cooper \"dancoopermedia\"   \n",
       "3      A1RJPIGRSNX4PW                  J. Kaplan \"JJ\"   \n",
       "4      A16XRPF40679KG                   Michael Dobey   \n",
       "...               ...                             ...   \n",
       "37121  A1ELO9LMSE1CQ7                           Mpr90   \n",
       "37122   AGOEKVIJV9UX6                    Mr. Markster   \n",
       "37123  A3I291BE0RNZCU             Rating My Best Pick   \n",
       "37124  A1MNITZRYU71IO         Sherry \"trying in ohio\"   \n",
       "37125  A1XMHK9HN5MW2H            Victoria J. Dennison   \n",
       "\n",
       "                                              reviewText  overall  \\\n",
       "0      I had big expectations because I love English ...      2.0   \n",
       "1      I highly recommend this series. It is a must f...      5.0   \n",
       "2      This one is a real snoozer. Don't believe anyt...      1.0   \n",
       "3      Mysteries are interesting.  The tension betwee...      4.0   \n",
       "4      This show always is excellent, as far as briti...      5.0   \n",
       "...                                                  ...      ...   \n",
       "37121  I love the books! The show is amazing so far. ...      5.0   \n",
       "37122  \"The Strain\" has potential to be an excellent ...      5.0   \n",
       "37123  I'm not real sure on how, I should rate this s...      3.0   \n",
       "37124  episode one so far makes me want to watch more...      4.0   \n",
       "37125  I watched the pilot.  I guess I've just seen t...      3.0   \n",
       "\n",
       "                                                 summary   reviewTime  \n",
       "0                             A little bit boring for me   05 3, 2014  \n",
       "1                                  Excellent Grown Up TV   09 3, 2012  \n",
       "2                                  Way too boring for me  10 16, 2013  \n",
       "3                            Robson Green is mesmerizing  10 30, 2013  \n",
       "4                         Robson green and great writing  02 11, 2009  \n",
       "...                                                  ...          ...  \n",
       "37121                                      Great Series!  07 19, 2014  \n",
       "37122  Forget the Vampire Diaries -- This is a REAL V...  07 14, 2014  \n",
       "37123  It's only the first episode so I'm not real su...  07 14, 2014  \n",
       "37124  and that is good. The accents are a bit much h...  07 14, 2014  \n",
       "37125                  I may have paid towatch the pilot  07 16, 2014  \n",
       "\n",
       "[36797 rows x 6 columns]"
      ]
     },
     "execution_count": 3,
     "metadata": {},
     "output_type": "execute_result"
    }
   ],
   "source": [
    "AIV = AIV[AIV['reviewerName'].notna()]\n",
    "AIV"
   ]
  },
  {
   "cell_type": "code",
   "execution_count": 4,
   "id": "adf50a98",
   "metadata": {
    "scrolled": true
   },
   "outputs": [
    {
     "data": {
      "text/plain": [
       "reviewerID      0\n",
       "reviewerName    0\n",
       "reviewText      0\n",
       "overall         0\n",
       "summary         0\n",
       "reviewTime      0\n",
       "dtype: int64"
      ]
     },
     "execution_count": 4,
     "metadata": {},
     "output_type": "execute_result"
    }
   ],
   "source": [
    "AIV.isnull().sum()"
   ]
  },
  {
   "cell_type": "markdown",
   "id": "5e6e101a",
   "metadata": {},
   "source": [
    "No quedan elementos nulos"
   ]
  },
  {
   "cell_type": "code",
   "execution_count": 5,
   "id": "e1205b53",
   "metadata": {
    "scrolled": true
   },
   "outputs": [
    {
     "data": {
      "text/html": [
       "<div>\n",
       "<style scoped>\n",
       "    .dataframe tbody tr th:only-of-type {\n",
       "        vertical-align: middle;\n",
       "    }\n",
       "\n",
       "    .dataframe tbody tr th {\n",
       "        vertical-align: top;\n",
       "    }\n",
       "\n",
       "    .dataframe thead th {\n",
       "        text-align: right;\n",
       "    }\n",
       "</style>\n",
       "<table border=\"1\" class=\"dataframe\">\n",
       "  <thead>\n",
       "    <tr style=\"text-align: right;\">\n",
       "      <th></th>\n",
       "      <th>reviewerID</th>\n",
       "      <th>reviewerName</th>\n",
       "      <th>reviewText</th>\n",
       "      <th>overall</th>\n",
       "      <th>summary</th>\n",
       "      <th>reviewTime</th>\n",
       "    </tr>\n",
       "  </thead>\n",
       "  <tbody>\n",
       "  </tbody>\n",
       "</table>\n",
       "</div>"
      ],
      "text/plain": [
       "Empty DataFrame\n",
       "Columns: [reviewerID, reviewerName, reviewText, overall, summary, reviewTime]\n",
       "Index: []"
      ]
     },
     "execution_count": 5,
     "metadata": {},
     "output_type": "execute_result"
    }
   ],
   "source": [
    "AIV[AIV.duplicated()]\n",
    "#No hay elementos duplicados"
   ]
  },
  {
   "cell_type": "code",
   "execution_count": 6,
   "id": "5d56ed00",
   "metadata": {},
   "outputs": [
    {
     "name": "stdout",
     "output_type": "stream",
     "text": [
      "Dimensions before dropping duplicated rows: (36797, 6)\n",
      "Dimensions after dropping duplicated rows: (36797, 6)\n"
     ]
    }
   ],
   "source": [
    "print('Dimensions before dropping duplicated rows: ' + str(AIV.shape))\n",
    "AIV = AIV.drop(AIV[AIV.duplicated()].index)\n",
    "print('Dimensions after dropping duplicated rows: ' + str(AIV.shape))\n",
    "#No se elimina ningún elemento porque no hay duplicados"
   ]
  },
  {
   "cell_type": "code",
   "execution_count": 7,
   "id": "0f45ab90",
   "metadata": {},
   "outputs": [
    {
     "data": {
      "text/plain": [
       "0       2014-05-03\n",
       "1       2012-09-03\n",
       "2       2013-10-16\n",
       "3       2013-10-30\n",
       "4       2009-02-11\n",
       "           ...    \n",
       "37121   2014-07-19\n",
       "37122   2014-07-14\n",
       "37123   2014-07-14\n",
       "37124   2014-07-14\n",
       "37125   2014-07-16\n",
       "Name: reviewTime, Length: 36797, dtype: datetime64[ns]"
      ]
     },
     "execution_count": 7,
     "metadata": {},
     "output_type": "execute_result"
    }
   ],
   "source": [
    "AIV['reviewTime'] = pd.to_datetime(AIV['reviewTime'])\n",
    "AIV['reviewTime']\n",
    "#Como se ve al final, está en el formato datetime"
   ]
  },
  {
   "cell_type": "markdown",
   "id": "93ce2f5e",
   "metadata": {},
   "source": [
    "Punto A:"
   ]
  },
  {
   "cell_type": "code",
   "execution_count": 8,
   "id": "08894b1f",
   "metadata": {},
   "outputs": [
    {
     "data": {
      "image/png": "[encoded data removed]",
      "text/plain": [
       "<Figure size 432x288 with 1 Axes>"
      ]
     },
     "metadata": {
      "needs_background": "light"
     },
     "output_type": "display_data"
    }
   ],
   "source": [
    "words_per_review = AIV.reviewText.apply(lambda x: len(x.split(\" \")))\n",
    "words_per_review.hist(bins = 20)\n",
    "plt.xlabel('Longitud')\n",
    "plt.ylabel('Frequency')\n",
    "plt.show()"
   ]
  },
  {
   "cell_type": "markdown",
   "id": "a858b928",
   "metadata": {},
   "source": [
    "Punto B:"
   ]
  },
  {
   "cell_type": "code",
   "execution_count": 9,
   "id": "f452c534",
   "metadata": {
    "scrolled": true
   },
   "outputs": [
    {
     "name": "stderr",
     "output_type": "stream",
     "text": [
      "[nltk_data] Downloading package stopwords to\n",
      "[nltk_data]     C:\\Users\\USUARIO\\AppData\\Roaming\\nltk_data...\n",
      "[nltk_data]   Package stopwords is already up-to-date!\n"
     ]
    }
   ],
   "source": [
    "from nltk.corpus import stopwords\n",
    "nltk.download('stopwords')\n",
    "stopwordsEng = stopwords.words('english')"
   ]
  },
  {
   "cell_type": "code",
   "execution_count": 10,
   "id": "e1e5b29d",
   "metadata": {},
   "outputs": [
    {
     "data": {
      "text/html": [
       "<div>\n",
       "<style scoped>\n",
       "    .dataframe tbody tr th:only-of-type {\n",
       "        vertical-align: middle;\n",
       "    }\n",
       "\n",
       "    .dataframe tbody tr th {\n",
       "        vertical-align: top;\n",
       "    }\n",
       "\n",
       "    .dataframe thead th {\n",
       "        text-align: right;\n",
       "    }\n",
       "</style>\n",
       "<table border=\"1\" class=\"dataframe\">\n",
       "  <thead>\n",
       "    <tr style=\"text-align: right;\">\n",
       "      <th></th>\n",
       "      <th>reviewerID</th>\n",
       "      <th>reviewerName</th>\n",
       "      <th>reviewText</th>\n",
       "      <th>overall</th>\n",
       "      <th>summary</th>\n",
       "      <th>reviewTime</th>\n",
       "      <th>reviews_text_lowercase</th>\n",
       "    </tr>\n",
       "  </thead>\n",
       "  <tbody>\n",
       "    <tr>\n",
       "      <th>0</th>\n",
       "      <td>A11N155CW1UV02</td>\n",
       "      <td>AdrianaM</td>\n",
       "      <td>I had big expectations because I love English ...</td>\n",
       "      <td>2.0</td>\n",
       "      <td>A little bit boring for me</td>\n",
       "      <td>2014-05-03</td>\n",
       "      <td>i had big expectations because i love english ...</td>\n",
       "    </tr>\n",
       "    <tr>\n",
       "      <th>1</th>\n",
       "      <td>A3BC8O2KCL29V2</td>\n",
       "      <td>Carol T</td>\n",
       "      <td>I highly recommend this series. It is a must f...</td>\n",
       "      <td>5.0</td>\n",
       "      <td>Excellent Grown Up TV</td>\n",
       "      <td>2012-09-03</td>\n",
       "      <td>i highly recommend this series. it is a must f...</td>\n",
       "    </tr>\n",
       "    <tr>\n",
       "      <th>2</th>\n",
       "      <td>A60D5HQFOTSOM</td>\n",
       "      <td>Daniel Cooper \"dancoopermedia\"</td>\n",
       "      <td>This one is a real snoozer. Don't believe anyt...</td>\n",
       "      <td>1.0</td>\n",
       "      <td>Way too boring for me</td>\n",
       "      <td>2013-10-16</td>\n",
       "      <td>this one is a real snoozer. don't believe anyt...</td>\n",
       "    </tr>\n",
       "    <tr>\n",
       "      <th>3</th>\n",
       "      <td>A1RJPIGRSNX4PW</td>\n",
       "      <td>J. Kaplan \"JJ\"</td>\n",
       "      <td>Mysteries are interesting.  The tension betwee...</td>\n",
       "      <td>4.0</td>\n",
       "      <td>Robson Green is mesmerizing</td>\n",
       "      <td>2013-10-30</td>\n",
       "      <td>mysteries are interesting.  the tension betwee...</td>\n",
       "    </tr>\n",
       "    <tr>\n",
       "      <th>4</th>\n",
       "      <td>A16XRPF40679KG</td>\n",
       "      <td>Michael Dobey</td>\n",
       "      <td>This show always is excellent, as far as briti...</td>\n",
       "      <td>5.0</td>\n",
       "      <td>Robson green and great writing</td>\n",
       "      <td>2009-02-11</td>\n",
       "      <td>this show always is excellent, as far as briti...</td>\n",
       "    </tr>\n",
       "    <tr>\n",
       "      <th>...</th>\n",
       "      <td>...</td>\n",
       "      <td>...</td>\n",
       "      <td>...</td>\n",
       "      <td>...</td>\n",
       "      <td>...</td>\n",
       "      <td>...</td>\n",
       "      <td>...</td>\n",
       "    </tr>\n",
       "    <tr>\n",
       "      <th>37121</th>\n",
       "      <td>A1ELO9LMSE1CQ7</td>\n",
       "      <td>Mpr90</td>\n",
       "      <td>I love the books! The show is amazing so far. ...</td>\n",
       "      <td>5.0</td>\n",
       "      <td>Great Series!</td>\n",
       "      <td>2014-07-19</td>\n",
       "      <td>i love the books! the show is amazing so far. ...</td>\n",
       "    </tr>\n",
       "    <tr>\n",
       "      <th>37122</th>\n",
       "      <td>AGOEKVIJV9UX6</td>\n",
       "      <td>Mr. Markster</td>\n",
       "      <td>\"The Strain\" has potential to be an excellent ...</td>\n",
       "      <td>5.0</td>\n",
       "      <td>Forget the Vampire Diaries -- This is a REAL V...</td>\n",
       "      <td>2014-07-14</td>\n",
       "      <td>\"the strain\" has potential to be an excellent ...</td>\n",
       "    </tr>\n",
       "    <tr>\n",
       "      <th>37123</th>\n",
       "      <td>A3I291BE0RNZCU</td>\n",
       "      <td>Rating My Best Pick</td>\n",
       "      <td>I'm not real sure on how, I should rate this s...</td>\n",
       "      <td>3.0</td>\n",
       "      <td>It's only the first episode so I'm not real su...</td>\n",
       "      <td>2014-07-14</td>\n",
       "      <td>i'm not real sure on how, i should rate this s...</td>\n",
       "    </tr>\n",
       "    <tr>\n",
       "      <th>37124</th>\n",
       "      <td>A1MNITZRYU71IO</td>\n",
       "      <td>Sherry \"trying in ohio\"</td>\n",
       "      <td>episode one so far makes me want to watch more...</td>\n",
       "      <td>4.0</td>\n",
       "      <td>and that is good. The accents are a bit much h...</td>\n",
       "      <td>2014-07-14</td>\n",
       "      <td>episode one so far makes me want to watch more...</td>\n",
       "    </tr>\n",
       "    <tr>\n",
       "      <th>37125</th>\n",
       "      <td>A1XMHK9HN5MW2H</td>\n",
       "      <td>Victoria J. Dennison</td>\n",
       "      <td>I watched the pilot.  I guess I've just seen t...</td>\n",
       "      <td>3.0</td>\n",
       "      <td>I may have paid towatch the pilot</td>\n",
       "      <td>2014-07-16</td>\n",
       "      <td>i watched the pilot.  i guess i've just seen t...</td>\n",
       "    </tr>\n",
       "  </tbody>\n",
       "</table>\n",
       "<p>36797 rows × 7 columns</p>\n",
       "</div>"
      ],
      "text/plain": [
       "           reviewerID                    reviewerName  \\\n",
       "0      A11N155CW1UV02                        AdrianaM   \n",
       "1      A3BC8O2KCL29V2                         Carol T   \n",
       "2       A60D5HQFOTSOM  Daniel Cooper \"dancoopermedia\"   \n",
       "3      A1RJPIGRSNX4PW                  J. Kaplan \"JJ\"   \n",
       "4      A16XRPF40679KG                   Michael Dobey   \n",
       "...               ...                             ...   \n",
       "37121  A1ELO9LMSE1CQ7                           Mpr90   \n",
       "37122   AGOEKVIJV9UX6                    Mr. Markster   \n",
       "37123  A3I291BE0RNZCU             Rating My Best Pick   \n",
       "37124  A1MNITZRYU71IO         Sherry \"trying in ohio\"   \n",
       "37125  A1XMHK9HN5MW2H            Victoria J. Dennison   \n",
       "\n",
       "                                              reviewText  overall  \\\n",
       "0      I had big expectations because I love English ...      2.0   \n",
       "1      I highly recommend this series. It is a must f...      5.0   \n",
       "2      This one is a real snoozer. Don't believe anyt...      1.0   \n",
       "3      Mysteries are interesting.  The tension betwee...      4.0   \n",
       "4      This show always is excellent, as far as briti...      5.0   \n",
       "...                                                  ...      ...   \n",
       "37121  I love the books! The show is amazing so far. ...      5.0   \n",
       "37122  \"The Strain\" has potential to be an excellent ...      5.0   \n",
       "37123  I'm not real sure on how, I should rate this s...      3.0   \n",
       "37124  episode one so far makes me want to watch more...      4.0   \n",
       "37125  I watched the pilot.  I guess I've just seen t...      3.0   \n",
       "\n",
       "                                                 summary reviewTime  \\\n",
       "0                             A little bit boring for me 2014-05-03   \n",
       "1                                  Excellent Grown Up TV 2012-09-03   \n",
       "2                                  Way too boring for me 2013-10-16   \n",
       "3                            Robson Green is mesmerizing 2013-10-30   \n",
       "4                         Robson green and great writing 2009-02-11   \n",
       "...                                                  ...        ...   \n",
       "37121                                      Great Series! 2014-07-19   \n",
       "37122  Forget the Vampire Diaries -- This is a REAL V... 2014-07-14   \n",
       "37123  It's only the first episode so I'm not real su... 2014-07-14   \n",
       "37124  and that is good. The accents are a bit much h... 2014-07-14   \n",
       "37125                  I may have paid towatch the pilot 2014-07-16   \n",
       "\n",
       "                                  reviews_text_lowercase  \n",
       "0      i had big expectations because i love english ...  \n",
       "1      i highly recommend this series. it is a must f...  \n",
       "2      this one is a real snoozer. don't believe anyt...  \n",
       "3      mysteries are interesting.  the tension betwee...  \n",
       "4      this show always is excellent, as far as briti...  \n",
       "...                                                  ...  \n",
       "37121  i love the books! the show is amazing so far. ...  \n",
       "37122  \"the strain\" has potential to be an excellent ...  \n",
       "37123  i'm not real sure on how, i should rate this s...  \n",
       "37124  episode one so far makes me want to watch more...  \n",
       "37125  i watched the pilot.  i guess i've just seen t...  \n",
       "\n",
       "[36797 rows x 7 columns]"
      ]
     },
     "execution_count": 10,
     "metadata": {},
     "output_type": "execute_result"
    }
   ],
   "source": [
    "AIV['reviews_text_lowercase'] = AIV['reviewText'].str.lower()\n",
    "AIV"
   ]
  },
  {
   "cell_type": "code",
   "execution_count": 15,
   "id": "59db1ab5",
   "metadata": {},
   "outputs": [],
   "source": [
    "Eliminate = AIV['reviews_text_lowercase'].apply(lambda review: \n",
    "[char for char in list(review) if not char.isalnum() and char != ' '])"
   ]
  },
  {
   "cell_type": "code",
   "execution_count": 14,
   "id": "c03bb5b1",
   "metadata": {},
   "outputs": [],
   "source": [
    "List = [item for sublist in Eliminate for item in sublist]"
   ]
  },
  {
   "cell_type": "code",
   "execution_count": 17,
   "id": "b0bae80c",
   "metadata": {},
   "outputs": [
    {
     "name": "stderr",
     "output_type": "stream",
     "text": [
      "<ipython-input-17-4312ee726d6e>:1: FutureWarning: The default value of regex will change from True to False in a future version.\n",
      "  AIV['reviews_text_lowercase'] = AIV['reviews_text_lowercase'].str.replace(r'[^A-Za-z0-9 ]+', ' ')\n"
     ]
    }
   ],
   "source": [
    "AIV['reviews_text_lowercase'] = AIV['reviews_text_lowercase'].str.replace(r'[^A-Za-z0-9 ]+', ' ')\n",
    "AIV\n",
    "stopEx = set(stopwordsEng)\n",
    "noStop = []\n",
    "newList = []\n",
    "sentence = ''.join(AIV['reviews_text_lowercase'])\n",
    "review = nltk.word_tokenize(sentence)"
   ]
  },
  {
   "cell_type": "code",
   "execution_count": 18,
   "id": "b3a20d30",
   "metadata": {},
   "outputs": [],
   "source": [
    "for review in review:\n",
    "    if review in stopEx:\n",
    "        newList.append(review)\n",
    "    else:\n",
    "        noStop.append(review)"
   ]
  },
  {
   "cell_type": "code",
   "execution_count": 19,
   "id": "32f432b3",
   "metadata": {},
   "outputs": [
    {
     "data": {
      "image/png": "[encoded data removed]",
      "text/plain": [
       "<Figure size 432x288 with 1 Axes>"
      ]
     },
     "metadata": {
      "needs_background": "light"
     },
     "output_type": "display_data"
    }
   ],
   "source": [
    "pd.Series(' '.join(noStop).split()).value_counts()\n",
    "words_per_review = AIV.reviews_text_lowercase.apply(lambda x: len(x.split(\" \")))\n",
    "words_per_review.hist(bins = 150)\n",
    "plt.xlabel('Longitud')\n",
    "plt.ylabel('Frequency')\n",
    "plt.title('Histograma')\n",
    "plt.show()"
   ]
  },
  {
   "cell_type": "markdown",
   "id": "447fd3de",
   "metadata": {},
   "source": [
    "Punto C:"
   ]
  },
  {
   "cell_type": "code",
   "execution_count": null,
   "id": "52304670",
   "metadata": {},
   "outputs": [],
   "source": [
    "from collections import Counter\n",
    "\n",
    "all_reviews_text = ' '.join(AIV['reviewText'])\n",
    "tokenized_words = nltk.word_tokenize(all_reviews_text)\n",
    "word_freq = Counter(tokenized_words)\n",
    "word_freq"
   ]
  },
  {
   "cell_type": "code",
   "execution_count": null,
   "id": "b6e2efc3",
   "metadata": {},
   "outputs": [],
   "source": [
    "from nltk.util import ngrams\n",
    "\n",
    "def top_k_ngrams(word_tokens,n,k):\n",
    "    \n",
    "    n_gram_list = list(ngrams(word_tokens,n))\n",
    "    \n",
    "    n_gram_strings = [' '.join(n_gram) for n_gram in n_gram_list]\n",
    "    \n",
    "    n_gram_counter = counter(n_gram_strings)\n",
    "    most_common_k = n_gran_counter.most_common(k)\n",
    "    print (most_common_k)"
   ]
  },
  {
   "cell_type": "markdown",
   "id": "8ad79f37",
   "metadata": {},
   "source": [
    "Bigrama"
   ]
  },
  {
   "cell_type": "code",
   "execution_count": null,
   "id": "eb48b074",
   "metadata": {},
   "outputs": [],
   "source": [
    "# Definiendo las stop words\n",
    "stopwords = stopwords.words('english')\n",
    "\n",
    "# Concatenando los primeras 1000 comentarios\n",
    "reviews_text = ' '.join(AIV['reviewText'][:1000])\n",
    "\n",
    "# Tokenización de palabras\n",
    "word_tokens = nltk.word_tokenize(reviews_text)\n",
    "\n",
    "# Removiendo las stop words\n",
    "word_tokens_clean = [word for word in word_tokens if word.lower() not in stopwords and len(word.lower()) > 2]\n",
    "\n",
    "# Llamando a la función definida arriba\n",
    "top_k_ngrams(word_tokens_clean, 2, 10)"
   ]
  },
  {
   "cell_type": "markdown",
   "id": "ba06ec16",
   "metadata": {},
   "source": [
    "Trigrama"
   ]
  },
  {
   "cell_type": "code",
   "execution_count": null,
   "id": "d90b988a",
   "metadata": {},
   "outputs": [],
   "source": [
    "# Definiendo las stop words\n",
    "stopwords = stopwords.words('english')\n",
    "\n",
    "# Concatenando los primeras 1000 comentarios\n",
    "reviews_text = ' '.join(AIV['reviewText'][:1000])\n",
    "\n",
    "# Tokenización de palabras\n",
    "word_tokens = nltk.word_tokenize(reviews_text)\n",
    "\n",
    "# Removiendo las stop words\n",
    "word_tokens_clean = [word for word in word_tokens if word.lower() not in stopwords and len(word.lower()) > 2]\n",
    "\n",
    "# Llamando a la función definida arriba\n",
    "top_k_ngrams(word_tokens_clean, 3, 10)"
   ]
  },
  {
   "cell_type": "markdown",
   "id": "3c6319db",
   "metadata": {},
   "source": [
    "4-grama"
   ]
  },
  {
   "cell_type": "code",
   "execution_count": null,
   "id": "aa2b3d0f",
   "metadata": {},
   "outputs": [],
   "source": [
    "# Definiendo las stop words\n",
    "stopwords = stopwords.words('english')\n",
    "\n",
    "# Concatenando los primeras 1000 comentarios\n",
    "reviews_text = ' '.join(AIV['reviewText'][:1000])\n",
    "\n",
    "# Tokenización de palabras\n",
    "word_tokens = nltk.word_tokenize(reviews_text)\n",
    "\n",
    "# Removiendo las stop words\n",
    "word_tokens_clean = [word for word in word_tokens if word.lower() not in stopwords and len(word.lower()) > 2]\n",
    "\n",
    "# Llamando a la función definida arriba\n",
    "top_k_ngrams(word_tokens_clean, 4, 10)"
   ]
  }
 ],
 "metadata": {
  "kernelspec": {
   "display_name": "Python 3",
   "language": "python",
   "name": "python3"
  }
 },
 "nbformat": 4,
 "nbformat_minor": 5
}
